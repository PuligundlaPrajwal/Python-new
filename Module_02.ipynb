{
  "nbformat": 4,
  "nbformat_minor": 0,
  "metadata": {
    "colab": {
      "name": "Module 02",
      "provenance": [],
      "collapsed_sections": [],
      "authorship_tag": "ABX9TyNoNDFfmF9RNV/Jm58maVIf",
      "include_colab_link": true
    },
    "kernelspec": {
      "name": "python3",
      "display_name": "Python 3"
    },
    "language_info": {
      "name": "python"
    }
  },
  "cells": [
    {
      "cell_type": "markdown",
      "metadata": {
        "id": "view-in-github",
        "colab_type": "text"
      },
      "source": [
        "<a href=\"https://colab.research.google.com/github/PuligundlaPrajwal/Python-new/blob/module2/Module_02.ipynb\" target=\"_parent\"><img src=\"https://colab.research.google.com/assets/colab-badge.svg\" alt=\"Open In Colab\"/></a>"
      ]
    },
    {
      "cell_type": "markdown",
      "source": [
        "# Create a function which accepts two inputs from the user and compute n Cr"
      ],
      "metadata": {
        "id": "zQCg-ZRkjOHi"
      }
    },
    {
      "cell_type": "code",
      "source": [
        "import math\n",
        "n=int(input(\"\"))\n",
        "r=int(input(\"\"))\n",
        "def nCr(x, y):\n",
        "   num = math.factorial(x)\n",
        "   dem = math.factorial(y)*math.factorial(x-y)\n",
        "   a = num/dem\n",
        "   b = int(a)\n",
        "   print(b)\n",
        "nCr(n,r)"
      ],
      "metadata": {
        "colab": {
          "base_uri": "https://localhost:8080/"
        },
        "id": "4uD-TTEojSvZ",
        "outputId": "847fd2cc-ab86-44ce-c50c-5f5dd5b5a95d"
      },
      "execution_count": null,
      "outputs": [
        {
          "output_type": "stream",
          "name": "stdout",
          "text": [
            "55\n",
            "2\n",
            "1485\n"
          ]
        }
      ]
    },
    {
      "cell_type": "markdown",
      "source": [
        "# Program to print a specified list after removing the 0th, 4th and 5th elements.\n",
        "Sample List : ['Red', 'Green', 'White', 'Black', 'Pink', 'Yellow']\n",
        "Expected Output : ['Green', 'White', 'Black']"
      ],
      "metadata": {
        "id": "u8E_U-GfoT5n"
      }
    },
    {
      "cell_type": "code",
      "source": [
        "def dc():\n",
        " sample = ['Red', 'Green', 'White', 'Black', 'Pink', 'Yellow']\n",
        " sample.pop(0)\n",
        " sample.pop(3)\n",
        " sample.pop(3)\n",
        " print(sample)\n",
        "dc()\n",
        "\n",
        "\n",
        "\n"
      ],
      "metadata": {
        "colab": {
          "base_uri": "https://localhost:8080/"
        },
        "id": "aAQnRe99ocgQ",
        "outputId": "0b18dccf-fb21-448b-db8b-b1320ffc33cf"
      },
      "execution_count": null,
      "outputs": [
        {
          "output_type": "stream",
          "name": "stdout",
          "text": [
            "['Green', 'White', 'Black']\n"
          ]
        }
      ]
    },
    {
      "cell_type": "markdown",
      "source": [
        "# Program to get the difference between the two lists"
      ],
      "metadata": {
        "id": "wWfUvq58qloW"
      }
    },
    {
      "cell_type": "code",
      "source": [
        "list1 = [1, 3, 5, 7, 9]\n",
        "list2=[1, 2, 4, 6, 7, 8]\n",
        "x = set(list1)\n",
        "y = set(list2)\n",
        "def diff(x,y):\n",
        "  p = x.difference(y)\n",
        "  q = y.difference(x)\n",
        "  g = list(p)\n",
        "  e = list(q)\n",
        "  r = g+e\n",
        "  print(r)\n",
        "diff(x,y)"
      ],
      "metadata": {
        "colab": {
          "base_uri": "https://localhost:8080/"
        },
        "id": "bXJ73GD8qrlF",
        "outputId": "f99639e9-d98b-466f-b495-cb0c82020d06"
      },
      "execution_count": null,
      "outputs": [
        {
          "output_type": "stream",
          "name": "stdout",
          "text": [
            "[9, 3, 5, 8, 2, 4, 6]\n"
          ]
        }
      ]
    },
    {
      "cell_type": "markdown",
      "source": [
        "# Program to find the second smallest number and second largest number in a list."
      ],
      "metadata": {
        "id": "mWOttzhrtTgs"
      }
    },
    {
      "cell_type": "code",
      "source": [
        "p = [1,3,2,4,5,6]\n",
        "def dc():\n",
        "  b = sorted(p)\n",
        "  small2 = b[1]\n",
        "  big2 = b[-2]\n",
        "  print(small2)\n",
        "  print(big2)\n",
        "dc()"
      ],
      "metadata": {
        "colab": {
          "base_uri": "https://localhost:8080/"
        },
        "id": "AhbtJK-4tZM9",
        "outputId": "3037b23e-54bd-4474-9f5e-cb3b86221b01"
      },
      "execution_count": null,
      "outputs": [
        {
          "output_type": "stream",
          "name": "stdout",
          "text": [
            "2\n",
            "5\n"
          ]
        }
      ]
    },
    {
      "cell_type": "markdown",
      "source": [
        "# Given a list of numbers of list, write a Python program to create a list of tuples having first element as the number and second element as the square of the number"
      ],
      "metadata": {
        "id": "OpmJOUGuvclk"
      }
    },
    {
      "cell_type": "code",
      "source": [
        "import math\n",
        "a=[1,2,3,4,5]\n",
        "b=[]\n",
        "def dc():\n",
        "  for i in a:\n",
        "    c=(i,i*i)\n",
        "    b.append(c)\n",
        "    c=tuple(b)\n",
        "  print(c)\n",
        "  print(type(c))\n",
        "dc()"
      ],
      "metadata": {
        "colab": {
          "base_uri": "https://localhost:8080/"
        },
        "id": "cl0hw8M_vnu6",
        "outputId": "fb9d29b4-d9b2-401f-aa38-c501079c6172"
      },
      "execution_count": null,
      "outputs": [
        {
          "output_type": "stream",
          "name": "stdout",
          "text": [
            "((1, 1), (2, 4), (3, 9), (4, 16), (5, 25))\n",
            "<class 'tuple'>\n"
          ]
        }
      ]
    },
    {
      "cell_type": "markdown",
      "source": [
        "# Given list of tuples, remove all the tuples with length K.\n",
        "Input : test_list = [(4, 5), (4, ), (8, 6, 7), (1, ), (3, 4, 6, 7)], K = 2\n",
        "Output : [(4, ), (8, 6, 7), (1, ), (3, 4, 6, 7)]\n",
        "Explanation : (4, 5) of len = 2 is removed."
      ],
      "metadata": {
        "id": "YQWIj9wR4cQL"
      }
    },
    {
      "cell_type": "code",
      "source": [
        "a =  [(4, 5), (4, ), (8, 6, 7), (1, ), (3, 4, 6, 7)]\n",
        "i = 0\n",
        "while i < len(a):\n",
        "  if len(a[i]) == 2:\n",
        "    a.pop(i)\n",
        "  else:\n",
        "    i = i+1\n",
        "print(a)\n",
        "\n",
        "  "
      ],
      "metadata": {
        "colab": {
          "base_uri": "https://localhost:8080/"
        },
        "id": "8zgKAJQY5DaK",
        "outputId": "a3c406cf-ace3-4098-ae68-f8774771f952"
      },
      "execution_count": null,
      "outputs": [
        {
          "output_type": "stream",
          "name": "stdout",
          "text": [
            "[(4,), (8, 6, 7), (1,), (3, 4, 6, 7)]\n"
          ]
        }
      ]
    },
    {
      "cell_type": "markdown",
      "source": [
        "#  Program to generate and print a dictionary that contains a number (between 1and n) in the form (x, x*x).\n",
        "Sample Input: (n=5) :\n",
        "Expected Output : {1: 1, 2: 4, 3: 9, 4: 16, 5: 25}"
      ],
      "metadata": {
        "id": "ijlRH9zu8re6"
      }
    },
    {
      "cell_type": "code",
      "source": [
        "import math\n",
        "a=[1,2,3,4,5]\n",
        "b=[]\n",
        "def dc():\n",
        "  for i in a:\n",
        "    c=(i,i*i)\n",
        "    b.append(c)\n",
        "    c=dict(b)\n",
        "  print(c)\n",
        "  print(type(c))\n",
        "dc()"
      ],
      "metadata": {
        "colab": {
          "base_uri": "https://localhost:8080/"
        },
        "outputId": "19aea9c9-a194-4a74-ad86-8213faa6bb79",
        "id": "jWWgdjerB5L6"
      },
      "execution_count": null,
      "outputs": [
        {
          "output_type": "stream",
          "name": "stdout",
          "text": [
            "{1: 1, 2: 4, 3: 9, 4: 16, 5: 25}\n",
            "<class 'dict'>\n"
          ]
        }
      ]
    },
    {
      "cell_type": "markdown",
      "source": [
        "# Program to remove a key from a dictionary"
      ],
      "metadata": {
        "id": "jPjZM-oBCAXB"
      }
    },
    {
      "cell_type": "code",
      "source": [
        "a = {\n",
        "   4: \"22\",\n",
        "   66: \"77\",\n",
        "   88 : \"99\"\n",
        "}\n",
        "del a[88]\n",
        "print(a)"
      ],
      "metadata": {
        "colab": {
          "base_uri": "https://localhost:8080/"
        },
        "id": "IPJvNKKfCIy5",
        "outputId": "117449b1-583d-4166-e814-f0ccaaed077b"
      },
      "execution_count": null,
      "outputs": [
        {
          "output_type": "stream",
          "name": "stdout",
          "text": [
            "{4: '22', 66: '77'}\n"
          ]
        }
      ]
    },
    {
      "cell_type": "markdown",
      "source": [
        "# Program to get the maximum and minimum value in a dictionary"
      ],
      "metadata": {
        "id": "ODWoPOO3DlVi"
      }
    },
    {
      "cell_type": "code",
      "source": [
        "a = {10,40,20,30,100,37} \n",
        "print(max(a),min(a))"
      ],
      "metadata": {
        "colab": {
          "base_uri": "https://localhost:8080/"
        },
        "id": "ZgKCtZ5NPQw0",
        "outputId": "0c3497fe-9124-44fb-94af-9a919dbd8f55"
      },
      "execution_count": null,
      "outputs": [
        {
          "output_type": "stream",
          "name": "stdout",
          "text": [
            "100 10\n"
          ]
        }
      ]
    },
    {
      "cell_type": "markdown",
      "source": [
        "# Program to perform operations on string using unicodes ,splitting of string,accessing elements of string using locations"
      ],
      "metadata": {
        "id": "WvmbCONZPfpk"
      }
    },
    {
      "cell_type": "code",
      "source": [
        "a= \"rcb is going to win the ipl this season\"\n",
        "print(a.split())\n",
        "print(a[1:3])"
      ],
      "metadata": {
        "colab": {
          "base_uri": "https://localhost:8080/"
        },
        "id": "OANJsiVnPiTF",
        "outputId": "02ef9ddd-69c2-400a-c9ed-c7fe6b52ce1e"
      },
      "execution_count": null,
      "outputs": [
        {
          "output_type": "stream",
          "name": "stdout",
          "text": [
            "['rcb', 'is', 'going', 'to', 'win', 'the', 'ipl', 'this', 'season']\n",
            "cb\n"
          ]
        }
      ]
    },
    {
      "cell_type": "markdown",
      "source": [
        "# Program for Counting occurrence of a certain element in a string, getting indexes that have matching elements.For ex -.In Rabbit count how many times b has occurred .\n",
        "Example-I have to go to a doctor and get myself checked. Count the number of\n",
        "occXrrences of µWo¶."
      ],
      "metadata": {
        "id": "cPPXj3UlP0wW"
      }
    },
    {
      "cell_type": "code",
      "source": [
        "a= \"rcb is going to win ipl this season\"\n",
        "print(a.count(\"r\"))"
      ],
      "metadata": {
        "colab": {
          "base_uri": "https://localhost:8080/"
        },
        "id": "nsWhdULTP7Gc",
        "outputId": "609070cd-2226-45af-d3f5-dfbbcbf4f637"
      },
      "execution_count": null,
      "outputs": [
        {
          "output_type": "stream",
          "name": "stdout",
          "text": [
            "1\n"
          ]
        }
      ]
    },
    {
      "cell_type": "markdown",
      "source": [
        "# Program for replacing one substring by another For example - Rabbit - Replace µbb¶ b\\µcc¶"
      ],
      "metadata": {
        "id": "Un-IstBEQX8s"
      }
    },
    {
      "cell_type": "code",
      "source": [
        "a=\"Rohit\"\n",
        "print (a.replace(\"R\" , \"h\" ))"
      ],
      "metadata": {
        "colab": {
          "base_uri": "https://localhost:8080/"
        },
        "id": "n8mnqkMLQbi8",
        "outputId": "510fbc37-34f4-4281-f334-dd0f8476db3b"
      },
      "execution_count": null,
      "outputs": [
        {
          "output_type": "stream",
          "name": "stdout",
          "text": [
            "hohit\n"
          ]
        }
      ]
    },
    {
      "cell_type": "markdown",
      "source": [
        "# Program to Acronym generator for any user input (ex-input is Random memory access then output should be RMA).Example - Random number (RN)"
      ],
      "metadata": {
        "id": "JasEqBV4Qty1"
      }
    },
    {
      "cell_type": "code",
      "source": [
        "string = input(\":\")\n",
        "php = \"\"\n",
        "smol = string.split(\" \")\n",
        "for word in smol:\n",
        "  php = php + word[0].upper()\n",
        "print(php)"
      ],
      "metadata": {
        "colab": {
          "base_uri": "https://localhost:8080/"
        },
        "id": "dIDNwG9eQ0Cr",
        "outputId": "5d4b7296-c50f-42ca-e492-97bcef636da5"
      },
      "execution_count": null,
      "outputs": [
        {
          "output_type": "stream",
          "name": "stdout",
          "text": [
            ":state bank india\n",
            "SBI\n"
          ]
        }
      ]
    },
    {
      "cell_type": "markdown",
      "source": [
        "# Python function that accepts a string and calculates the number of uppercase letters and lowercase letters"
      ],
      "metadata": {
        "id": "60XKwLPfRCDC"
      }
    },
    {
      "cell_type": "code",
      "source": [
        "def string(a):\n",
        "    b=0;c=0\n",
        "    for x in a:\n",
        "        if x.isupper():\n",
        "           b=b+1\n",
        "        else:\n",
        "           c=c+1\n",
        "    print(\"the lower values\", b)\n",
        "    print(\"the upper values\", c)\n",
        "\n",
        "string(\"Viratkohili\")"
      ],
      "metadata": {
        "colab": {
          "base_uri": "https://localhost:8080/"
        },
        "id": "fwojQHmpRHXq",
        "outputId": "f87e1730-e525-40a8-e286-31cad627af65"
      },
      "execution_count": null,
      "outputs": [
        {
          "output_type": "stream",
          "name": "stdout",
          "text": [
            "the lower values 1\n",
            "the upper values 10\n"
          ]
        }
      ]
    },
    {
      "cell_type": "markdown",
      "source": [
        "# Program to count the number of strings where the string length is 2 or more and the first and last character are same from a given list of strings\n",
        "x Sample List : ['abc', 'xyz', 'aba', '1221'] Expected Result : 2"
      ],
      "metadata": {
        "id": "_OW8vw4yRXuV"
      }
    },
    {
      "cell_type": "code",
      "source": [
        "a=['abc', 'xyz', 'aba', '1221']\n",
        "c=0\n",
        "for x in a :\n",
        "    if len(x)>=2:\n",
        "        if x[0]==x[-1]:\n",
        "            c=c+1\n",
        "print(\"the string of length 2 is\",c)"
      ],
      "metadata": {
        "colab": {
          "base_uri": "https://localhost:8080/"
        },
        "id": "LLLX4YeERW8d",
        "outputId": "ca3bccf6-869e-474a-e0af-a32bef57bcc5"
      },
      "execution_count": null,
      "outputs": [
        {
          "output_type": "stream",
          "name": "stdout",
          "text": [
            "the string of length 2 is 2\n"
          ]
        }
      ]
    }
  ]
}